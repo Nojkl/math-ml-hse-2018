{
  "cells": [
    {
      "cell_type": "markdown",
      "source": [
        "# Машинное обучение\n",
        "## Факультет математики НИУ ВШЭ\n",
        "### 2018-19 учебный год\n",
        "\n",
        "Лектор: Илья Щуров\n",
        "\nСеминаристы: Евгения Ческидова, Евгений Ковалёв."
      ],
      "metadata": {}
    },
    {
      "cell_type": "markdown",
      "source": [
        "# Семинар 1"
      ],
      "metadata": {}
    },
    {
      "cell_type": "markdown",
      "source": [
        "На этом семинаре мы:\n",
        "\n",
        "- обсудим основные классы задач в машинном обучении\n",
        "- разберем, какие инструменты используются для решения таких задач на практике\n",
        "- обнаружим много полезных ссылок :)\n",
        "- посмотрим, как вообще выглядит анализ данных на практике\n",
        "- попрактикуемся анализировать данные сами"
      ],
      "metadata": {}
    },
    {
      "cell_type": "markdown",
      "source": [
        "## 1 Постановки основных классов задач в машинном обучении"
      ],
      "metadata": {}
    },
    {
      "cell_type": "markdown",
      "source": [
        "Большинство задач машинного обучения можно отнести к одному из основных классов подобного рода задач:\n",
        "\n",
        "**Обучение с учителем (supervised learning)**\n",
        "\n",
        "Даны обучающая выборка (матрица объектов-признаков $X$) и целевая переменная (вектор ответов $y$). С помощью них необходимо построить функцию, максимально приближающую зависимость целевой переменной от признакового описания объектов. Другими словами, мы хотим иметь алгоритм, который получает на вход объект и выдает по его признаковому описанию максимально точный ответ. Качество построенного алгоритма оценивается с помощью выбранной заранее метрики качества.\n",
        "\n",
        "Целевая переменная в основном может принимать вещественные значения (тогда это будет задача регрессии - например, спрогнозировать стоимость недвижимости на основе информации о ней) либо значения из конечного множества (задача классификации - поставить диагноз пациенту).\n",
        "\n",
        "**Обучение без учителя (unsupervised learning)**\n",
        "\n",
        "Целевой переменной $y$ нет, но обучающая выборка $X$ имеется. В данном случае требуется выполнить некоторую задачу на основании зависимостей между объектами. Например, в задаче кластеризации требуется разбить объекты на кластеры (например, исходя из проведенных исследований, разделить потребителей на несколько групп для более детального анализа), а в задаче снижения размерности - преобразовать обучающую выборку $X$ таким образом, чтобы она имела меньше признаков (столбцов), при этом не потеряв важной информации об объектах.\n",
        "\n",
        "**Частичное обучение (semi-supervised learning)**\n",
        "\n",
        "Дана обучающая выборка $X$, но значение целевой переменной $y$ известно лишь для какой-то части объектов из нее (обычно эта доля невелика). Примером задачи, решаемой с помощью частичного обучения, может быть классификация веб-страниц по их типу (разметка данных может занять много времени, однако огромное количество веб-страниц можно получить с помощью краулера).\n",
        "\n",
        "**Обучение с подкреплением (reinforcement learning)**\n",
        "\nНеобходимо найти стратегию поведения, которая максимизирует выигрыш в долгосрочной перспективе в заданной среде. В данном случае объектами являются возникшие ситуации и принятые в них решения, а ответами - полученные выигрыши. Примером задачи из данного класса может быть самообучение роботов."
      ],
      "metadata": {}
    },
    {
      "cell_type": "markdown",
      "source": [
        "Также можно выделить примеры видов задач, использующие более специфичные типы данных и преследующие более специфичные цели:\n",
        "\n",
        "**Рекомендательные системы**\n",
        "\n",
        "Необходимо понять, какие товары предложить данному потребителю (например, в интернет-магазине). Для этого используется анализ истории просмотров и предыдущих покупок пользователя и/или анализ аналогичной информации о схожих с ним пользователях.\n",
        "\n",
        "**Обработка текстов**\n",
        "\n",
        "Объектами являются тексты. Для того, чтобы применить к ним методы машинного обучения, необходимо построить их признаковое описание, что и делают с помощью различных методов (например, можно посчитать частоту встречаемости разных слов). Предобработка данных в этом случае является крайне важным шагом для построения эффективного алгоритма. Примеры задач: тематическое моделирование (определение темы текста), автоматическое построение аннотации, построение вопросно-ответных систем, машинный перевод.\n",
        "\n",
        "**Обработка изображений**\n",
        "\n",
        "Объектами являются изображения. Данные задачи изучаются в рамках специальной области, которая называется компьютерным зрением (computer vision) и располагает специальными техниками для решения подобного рода задач. Примеры: классификация изображения, распознавание объектов, семантическая сегментация (разделение изображения на области и определение типа объекта в каждой из них).\n",
        "\n",
        "**Обучение представлений**\n",
        "\nЦелью является составление оптимальных представлений объектов для эффективного решения необходимых задач. Например, для улучшения качества алгоритма в задаче обработки текстов словам бывает полезно сопоставить сжатые векторные представления, которые заранее были обучены с помощью специальных методов на основе огромного корпуса текстов."
      ],
      "metadata": {}
    },
    {
      "cell_type": "markdown",
      "source": [
        "# 2 Инструменты"
      ],
      "metadata": {}
    },
    {
      "cell_type": "markdown",
      "source": [
        "Для практического решения задач анализа данных применяются различные инструменты, зависящие от специфики задачи, требований, а также вкусов самих аналитиков и разработчиков. В том числе:\n",
        "\n",
        "- языки программирования: Python 3 (популярный и несложный, его мы и будем использовать), C++, Java (быстрее, чем Python), R (практикуется в основном аналитиками)\n",
        "- среды разработки: Jupyter Notebook (достаточно удобен для аналитики, потому что предоставляет возможность запускать код отдельными фрагментами, а не целиком, и позволяет составлять отчеты), PyCharm, Spyder\n",
        "- библиотеки для обработки данных: numpy, pandas\n",
        "- библиотеки для визуализации данных: matplotlib, seaborn\n",
        "- библиотеки с алгоритмами машинного обучения: sklearn, xgboost, keras, pytorch\n",
        "- облачные сервисы: Amazon AWS, Microsoft Azure, Digital Ocean"
      ],
      "metadata": {}
    },
    {
      "cell_type": "markdown",
      "source": [
        "# 3 Полезные ссылки"
      ],
      "metadata": {}
    },
    {
      "cell_type": "markdown",
      "source": [
        "**Начало работы**\n",
        "\n",
        "- Anaconda (дистрибутив для Python, содержащий в том числе Jupyter Notebook и сам Python): https://www.anaconda.com/download/ - рекомендуется версия Python 3.6 или больше; не забудьте выбрать нужную операционную систему!\n",
        "- документация по Jupyter: https://jupyter.readthedocs.io/en/latest/\n",
        "- документация по pip (для установки пакетов в Python с помощью pip install): https://pip.readthedocs.io/en/latest/\n",
        "- PyCharm: https://www.jetbrains.com/pycharm/\n",
        "\n",
        "**Общее**\n",
        "\n",
        "- для любых вопросов: https://www.google.com/\n",
        "- для (почти) любых ответов: https://stackoverflow.com/\n",
        "- профессиональный информационно-аналитический ресурс, посвященный машинному обучению, распознаванию образов и интеллектуальному анализу данных: http://www.machinelearning.ru/wiki/index.php?title=Заглавная_страница\n",
        "- A visual introduction to machine learning: http://www.r2d3.us/visual-intro-to-machine-learning-part-1/\n",
        "\n",
        "**Python**\n",
        "\n",
        "- A Crash Course in Python for Scientists: http://nbviewer.jupyter.org/gist/rpmuller/5920182\n",
        "- A Gallery of interesting Jupyter Notebooks: https://github.com/jupyter/jupyter/wiki/A-gallery-of-interesting-Jupyter-Notebooks\n",
        "\n",
        "**numpy**\n",
        "\n",
        "- документация: http://www.numpy.org/\n",
        "- 100 numpy exercises: http://www.labri.fr/perso/nrougier/teaching/numpy.100/\n",
        "\n",
        "**pandas**\n",
        "\n",
        "- документация: http://pandas.pydata.org/pandas-docs/stable/\n",
        "- Cheet Sheet: https://www.analyticsvidhya.com/blog/2015/07/11-steps-perform-data-analysis-pandas-python/\n",
        "- Visualization: http://pandas.pydata.org/pandas-docs/stable/visualization.html\n",
        "\n",
        "**sklearn**\n",
        "\n",
        "- документация и многое другое: http://scikit-learn.org/stable/\n",
        "\n",
        "**Другие библиотеки**\n",
        "\n",
        "- matplotlib: https://matplotlib.org/users/pyplot_tutorial.html\n",
        "- seaborn: http://seaborn.pydata.org/\n",
        "\n",
        "**Датасеты**\n",
        "\n",
        "- сборник различных открытых данных: https://github.com/awesomedata/awesome-public-datasets\n",
        "- сборник открытых данных РФ: http://data.gov.ru/\n",
        "- сборник данных с изображениями и видео: http://homepages.inf.ed.ac.uk/rbf/CVonline/Imagedbase.htm\n",
        "- сборник данных на Kaggle: https://www.kaggle.com/datasets\n",
        "\n",
        "**Онлайн-курсы**\n",
        "\n",
        "- Andrew Ng, \"Machine Learning\": https://www.coursera.org/learn/machine-learning\n",
        "- ВШЭ & Яндекс, «Введение в машинное обучение»: https://www.coursera.org/learn/vvedenie-mashinnoe-obuchenie\n",
        "- ВШЭ & Яндекс, специализация \"Advanced Machine Learning\": https://www.coursera.org/courses?query=advanced%20machine%20learning (более продвинутый уровень)\n",
        "- обзор онлайн-курсов Coursera: https://habr.com/post/248069/\n",
        "- Dataquest: https://www.dataquest.io/\n",
        "- Learn Python: https://www.codecademy.com/learn/learn-python\n",
        "- Learn Python the Hard Way: https://learnpythonthehardway.org/\n",
        "\n",
        "**Соревнования**\n",
        "\n",
        "- Kaggle: https://www.kaggle.com/\n",
        "- DrivenData: https://www.drivendata.org/\n",
        "\n",
        "**For fun**\n",
        "\n",
        "- http://tylervigen.com/spurious-correlations\n",
        "- http://blog.yhat.com/posts/7-funny-datasets.html\n",
        "- https://vk.com/weirdkerneltricks\n",
        "- https://www.youtube.com/channel/UCWN3xxRkmTPmbKwht9FuE5A/featured"
      ],
      "metadata": {}
    },
    {
      "cell_type": "markdown",
      "source": [
        "# 4 Практика"
      ],
      "metadata": {}
    },
    {
      "cell_type": "markdown",
      "source": [
        "Давайте теперь займемся анализом данных. Будем работать с данными, собранными благодаря опросу студентов математического курса средней школы в Португалии (возраст - от 15 до 22 лет). Они находятся в файле \"math_students.csv\". Целевой переменной является итоговая оценка студента за курс."
      ],
      "metadata": {}
    },
    {
      "cell_type": "code",
      "source": [
        "# импортируем библиотеки\n",
        "import matplotlib.pyplot as plt\n",
        "import pandas as pd\n",
        "\n",
        "# магическая функция, позволяющая выводить графики прямо в ноутбук\n",
        "%matplotlib inline"
      ],
      "outputs": [],
      "execution_count": 1,
      "metadata": {
        "collapsed": true
      }
    },
    {
      "cell_type": "markdown",
      "source": [
        "Загрузим данные и посмотрим на них."
      ],
      "metadata": {}
    },
    {
      "cell_type": "code",
      "source": [
        "# если данные и ноутбук находятся в разных папках, то для загрузки файла помимо названия необходимо также прописать путь к нему\n",
        "# .csv - текстовый файл для представления табличных данных, разделенных каким-то символом. В данном случае - запятой\n",
        "data = pd.read_csv('data/math_students.csv', delimiter=',')\n",
        "\n",
        "# функция .head(n) выводит первые n строк таблицы (по умолчанию n=5)\n",
        "data.head()"
      ],
      "outputs": [
        {
          "output_type": "execute_result",
          "execution_count": 2,
          "data": {
            "text/html": [
              "<div>\n",
              "<style>\n",
              "    .dataframe thead tr:only-child th {\n",
              "        text-align: right;\n",
              "    }\n",
              "\n",
              "    .dataframe thead th {\n",
              "        text-align: left;\n",
              "    }\n",
              "\n",
              "    .dataframe tbody tr th {\n",
              "        vertical-align: top;\n",
              "    }\n",
              "</style>\n",
              "<table border=\"1\" class=\"dataframe\">\n",
              "  <thead>\n",
              "    <tr style=\"text-align: right;\">\n",
              "      <th></th>\n",
              "      <th>school</th>\n",
              "      <th>sex</th>\n",
              "      <th>age</th>\n",
              "      <th>address</th>\n",
              "      <th>famsize</th>\n",
              "      <th>Pstatus</th>\n",
              "      <th>Medu</th>\n",
              "      <th>Fedu</th>\n",
              "      <th>Mjob</th>\n",
              "      <th>Fjob</th>\n",
              "      <th>...</th>\n",
              "      <th>famrel</th>\n",
              "      <th>freetime</th>\n",
              "      <th>goout</th>\n",
              "      <th>Dalc</th>\n",
              "      <th>Walc</th>\n",
              "      <th>health</th>\n",
              "      <th>absences</th>\n",
              "      <th>G1</th>\n",
              "      <th>G2</th>\n",
              "      <th>G3</th>\n",
              "    </tr>\n",
              "  </thead>\n",
              "  <tbody>\n",
              "    <tr>\n",
              "      <th>0</th>\n",
              "      <td>GP</td>\n",
              "      <td>F</td>\n",
              "      <td>18</td>\n",
              "      <td>U</td>\n",
              "      <td>GT3</td>\n",
              "      <td>A</td>\n",
              "      <td>4</td>\n",
              "      <td>4</td>\n",
              "      <td>at_home</td>\n",
              "      <td>teacher</td>\n",
              "      <td>...</td>\n",
              "      <td>4</td>\n",
              "      <td>3</td>\n",
              "      <td>4</td>\n",
              "      <td>1</td>\n",
              "      <td>1</td>\n",
              "      <td>3</td>\n",
              "      <td>6</td>\n",
              "      <td>5</td>\n",
              "      <td>6</td>\n",
              "      <td>6</td>\n",
              "    </tr>\n",
              "    <tr>\n",
              "      <th>1</th>\n",
              "      <td>GP</td>\n",
              "      <td>F</td>\n",
              "      <td>17</td>\n",
              "      <td>U</td>\n",
              "      <td>GT3</td>\n",
              "      <td>T</td>\n",
              "      <td>1</td>\n",
              "      <td>1</td>\n",
              "      <td>at_home</td>\n",
              "      <td>other</td>\n",
              "      <td>...</td>\n",
              "      <td>5</td>\n",
              "      <td>3</td>\n",
              "      <td>3</td>\n",
              "      <td>1</td>\n",
              "      <td>1</td>\n",
              "      <td>3</td>\n",
              "      <td>4</td>\n",
              "      <td>5</td>\n",
              "      <td>5</td>\n",
              "      <td>6</td>\n",
              "    </tr>\n",
              "    <tr>\n",
              "      <th>2</th>\n",
              "      <td>GP</td>\n",
              "      <td>F</td>\n",
              "      <td>15</td>\n",
              "      <td>U</td>\n",
              "      <td>LE3</td>\n",
              "      <td>T</td>\n",
              "      <td>1</td>\n",
              "      <td>1</td>\n",
              "      <td>at_home</td>\n",
              "      <td>other</td>\n",
              "      <td>...</td>\n",
              "      <td>4</td>\n",
              "      <td>3</td>\n",
              "      <td>2</td>\n",
              "      <td>2</td>\n",
              "      <td>3</td>\n",
              "      <td>3</td>\n",
              "      <td>10</td>\n",
              "      <td>7</td>\n",
              "      <td>8</td>\n",
              "      <td>10</td>\n",
              "    </tr>\n",
              "    <tr>\n",
              "      <th>3</th>\n",
              "      <td>GP</td>\n",
              "      <td>F</td>\n",
              "      <td>15</td>\n",
              "      <td>U</td>\n",
              "      <td>GT3</td>\n",
              "      <td>T</td>\n",
              "      <td>4</td>\n",
              "      <td>2</td>\n",
              "      <td>health</td>\n",
              "      <td>services</td>\n",
              "      <td>...</td>\n",
              "      <td>3</td>\n",
              "      <td>2</td>\n",
              "      <td>2</td>\n",
              "      <td>1</td>\n",
              "      <td>1</td>\n",
              "      <td>5</td>\n",
              "      <td>2</td>\n",
              "      <td>15</td>\n",
              "      <td>14</td>\n",
              "      <td>15</td>\n",
              "    </tr>\n",
              "    <tr>\n",
              "      <th>4</th>\n",
              "      <td>GP</td>\n",
              "      <td>F</td>\n",
              "      <td>16</td>\n",
              "      <td>U</td>\n",
              "      <td>GT3</td>\n",
              "      <td>T</td>\n",
              "      <td>3</td>\n",
              "      <td>3</td>\n",
              "      <td>other</td>\n",
              "      <td>other</td>\n",
              "      <td>...</td>\n",
              "      <td>4</td>\n",
              "      <td>3</td>\n",
              "      <td>2</td>\n",
              "      <td>1</td>\n",
              "      <td>2</td>\n",
              "      <td>5</td>\n",
              "      <td>4</td>\n",
              "      <td>6</td>\n",
              "      <td>10</td>\n",
              "      <td>10</td>\n",
              "    </tr>\n",
              "  </tbody>\n",
              "</table>\n",
              "<p>5 rows × 33 columns</p>\n",
              "</div>"
            ],
            "text/plain": [
              "  school sex  age address famsize Pstatus  Medu  Fedu     Mjob      Fjob ...  \\\n",
              "0     GP   F   18       U     GT3       A     4     4  at_home   teacher ...   \n",
              "1     GP   F   17       U     GT3       T     1     1  at_home     other ...   \n",
              "2     GP   F   15       U     LE3       T     1     1  at_home     other ...   \n",
              "3     GP   F   15       U     GT3       T     4     2   health  services ...   \n",
              "4     GP   F   16       U     GT3       T     3     3    other     other ...   \n",
              "\n",
              "  famrel freetime  goout  Dalc  Walc health absences  G1  G2  G3  \n",
              "0      4        3      4     1     1      3        6   5   6   6  \n",
              "1      5        3      3     1     1      3        4   5   5   6  \n",
              "2      4        3      2     2     3      3       10   7   8  10  \n",
              "3      3        2      2     1     1      5        2  15  14  15  \n",
              "4      4        3      2     1     2      5        4   6  10  10  \n",
              "\n[5 rows x 33 columns]"
            ]
          },
          "metadata": {}
        }
      ],
      "execution_count": 2,
      "metadata": {}
    },
    {
      "cell_type": "markdown",
      "source": [
        "Аналогично, можно смотреть не на верхние строки таблицы, а на нижние:"
      ],
      "metadata": {}
    },
    {
      "cell_type": "code",
      "source": [
        "data.tail()"
      ],
      "outputs": [
        {
          "output_type": "execute_result",
          "execution_count": 3,
          "data": {
            "text/html": [
              "<div>\n",
              "<style>\n",
              "    .dataframe thead tr:only-child th {\n",
              "        text-align: right;\n",
              "    }\n",
              "\n",
              "    .dataframe thead th {\n",
              "        text-align: left;\n",
              "    }\n",
              "\n",
              "    .dataframe tbody tr th {\n",
              "        vertical-align: top;\n",
              "    }\n",
              "</style>\n",
              "<table border=\"1\" class=\"dataframe\">\n",
              "  <thead>\n",
              "    <tr style=\"text-align: right;\">\n",
              "      <th></th>\n",
              "      <th>school</th>\n",
              "      <th>sex</th>\n",
              "      <th>age</th>\n",
              "      <th>address</th>\n",
              "      <th>famsize</th>\n",
              "      <th>Pstatus</th>\n",
              "      <th>Medu</th>\n",
              "      <th>Fedu</th>\n",
              "      <th>Mjob</th>\n",
              "      <th>Fjob</th>\n",
              "      <th>...</th>\n",
              "      <th>famrel</th>\n",
              "      <th>freetime</th>\n",
              "      <th>goout</th>\n",
              "      <th>Dalc</th>\n",
              "      <th>Walc</th>\n",
              "      <th>health</th>\n",
              "      <th>absences</th>\n",
              "      <th>G1</th>\n",
              "      <th>G2</th>\n",
              "      <th>G3</th>\n",
              "    </tr>\n",
              "  </thead>\n",
              "  <tbody>\n",
              "    <tr>\n",
              "      <th>390</th>\n",
              "      <td>MS</td>\n",
              "      <td>M</td>\n",
              "      <td>20</td>\n",
              "      <td>U</td>\n",
              "      <td>LE3</td>\n",
              "      <td>A</td>\n",
              "      <td>2</td>\n",
              "      <td>2</td>\n",
              "      <td>services</td>\n",
              "      <td>services</td>\n",
              "      <td>...</td>\n",
              "      <td>5</td>\n",
              "      <td>5</td>\n",
              "      <td>4</td>\n",
              "      <td>4</td>\n",
              "      <td>5</td>\n",
              "      <td>4</td>\n",
              "      <td>11</td>\n",
              "      <td>9</td>\n",
              "      <td>9</td>\n",
              "      <td>9</td>\n",
              "    </tr>\n",
              "    <tr>\n",
              "      <th>391</th>\n",
              "      <td>MS</td>\n",
              "      <td>M</td>\n",
              "      <td>17</td>\n",
              "      <td>U</td>\n",
              "      <td>LE3</td>\n",
              "      <td>T</td>\n",
              "      <td>3</td>\n",
              "      <td>1</td>\n",
              "      <td>services</td>\n",
              "      <td>services</td>\n",
              "      <td>...</td>\n",
              "      <td>2</td>\n",
              "      <td>4</td>\n",
              "      <td>5</td>\n",
              "      <td>3</td>\n",
              "      <td>4</td>\n",
              "      <td>2</td>\n",
              "      <td>3</td>\n",
              "      <td>14</td>\n",
              "      <td>16</td>\n",
              "      <td>16</td>\n",
              "    </tr>\n",
              "    <tr>\n",
              "      <th>392</th>\n",
              "      <td>MS</td>\n",
              "      <td>M</td>\n",
              "      <td>21</td>\n",
              "      <td>R</td>\n",
              "      <td>GT3</td>\n",
              "      <td>T</td>\n",
              "      <td>1</td>\n",
              "      <td>1</td>\n",
              "      <td>other</td>\n",
              "      <td>other</td>\n",
              "      <td>...</td>\n",
              "      <td>5</td>\n",
              "      <td>5</td>\n",
              "      <td>3</td>\n",
              "      <td>3</td>\n",
              "      <td>3</td>\n",
              "      <td>3</td>\n",
              "      <td>3</td>\n",
              "      <td>10</td>\n",
              "      <td>8</td>\n",
              "      <td>7</td>\n",
              "    </tr>\n",
              "    <tr>\n",
              "      <th>393</th>\n",
              "      <td>MS</td>\n",
              "      <td>M</td>\n",
              "      <td>18</td>\n",
              "      <td>R</td>\n",
              "      <td>LE3</td>\n",
              "      <td>T</td>\n",
              "      <td>3</td>\n",
              "      <td>2</td>\n",
              "      <td>services</td>\n",
              "      <td>other</td>\n",
              "      <td>...</td>\n",
              "      <td>4</td>\n",
              "      <td>4</td>\n",
              "      <td>1</td>\n",
              "      <td>3</td>\n",
              "      <td>4</td>\n",
              "      <td>5</td>\n",
              "      <td>0</td>\n",
              "      <td>11</td>\n",
              "      <td>12</td>\n",
              "      <td>10</td>\n",
              "    </tr>\n",
              "    <tr>\n",
              "      <th>394</th>\n",
              "      <td>MS</td>\n",
              "      <td>M</td>\n",
              "      <td>19</td>\n",
              "      <td>U</td>\n",
              "      <td>LE3</td>\n",
              "      <td>T</td>\n",
              "      <td>1</td>\n",
              "      <td>1</td>\n",
              "      <td>other</td>\n",
              "      <td>at_home</td>\n",
              "      <td>...</td>\n",
              "      <td>3</td>\n",
              "      <td>2</td>\n",
              "      <td>3</td>\n",
              "      <td>3</td>\n",
              "      <td>3</td>\n",
              "      <td>5</td>\n",
              "      <td>5</td>\n",
              "      <td>8</td>\n",
              "      <td>9</td>\n",
              "      <td>9</td>\n",
              "    </tr>\n",
              "  </tbody>\n",
              "</table>\n",
              "<p>5 rows × 33 columns</p>\n",
              "</div>"
            ],
            "text/plain": [
              "    school sex  age address famsize Pstatus  Medu  Fedu      Mjob      Fjob  \\\n",
              "390     MS   M   20       U     LE3       A     2     2  services  services   \n",
              "391     MS   M   17       U     LE3       T     3     1  services  services   \n",
              "392     MS   M   21       R     GT3       T     1     1     other     other   \n",
              "393     MS   M   18       R     LE3       T     3     2  services     other   \n",
              "394     MS   M   19       U     LE3       T     1     1     other   at_home   \n",
              "\n",
              "    ... famrel freetime  goout  Dalc  Walc health absences  G1  G2  G3  \n",
              "390 ...      5        5      4     4     5      4       11   9   9   9  \n",
              "391 ...      2        4      5     3     4      2        3  14  16  16  \n",
              "392 ...      5        5      3     3     3      3        3  10   8   7  \n",
              "393 ...      4        4      1     3     4      5        0  11  12  10  \n",
              "394 ...      3        2      3     3     3      5        5   8   9   9  \n",
              "\n[5 rows x 33 columns]"
            ]
          },
          "metadata": {}
        }
      ],
      "execution_count": 3,
      "metadata": {}
    },
    {
      "cell_type": "markdown",
      "source": [
        "В данном случае объектами являются студенты, признаками - различные их характеристики. Найдем число и тех, и других:"
      ],
      "metadata": {}
    },
    {
      "cell_type": "code",
      "source": [
        "data.shape"
      ],
      "outputs": [
        {
          "output_type": "execute_result",
          "execution_count": 4,
          "data": {
            "text/plain": [
              "(395, 33)"
            ]
          },
          "metadata": {}
        }
      ],
      "execution_count": 4,
      "metadata": {}
    },
    {
      "cell_type": "markdown",
      "source": [
        "Итак, всего объектов 395, а признаков - 32 (учитываем, что один из столбцов - это целевая переменная). Все признаки имеют разную природу. Вот их более подробная расшифровка:\n",
        "\n",
        " - school - тип школы (\"GP\" - Gabriel Pereira или \"MS\" - Mousinho da Silveira)\n",
        " - sex - пол (\"F\" - female или \"M\" - male)\n",
        " - age - возраст (от 15 до 22)\n",
        " - address - откуда студент (\"U\" - urban или \"R\" - rural)\n",
        " - famsize - размер семьи (\"LE3\" - меньше или равно 3 или \"GT3\" - больше 3)\n",
        " - Pstatus - в каких отношениях родители (\"T\" - живут вместе \"A\" - раздельно)\n",
        " - Medu - образование матери (0 - никакого,  1 - начальное образование (4 класса), 2 – от 5 до 9 классов, 3 – среднеспециальное или 4 – высшее)\n",
        " - Fedu - образование отца (0 - никакого,  1 - начальное образование (4 класса), 2 – от 5 до 9 классов, 3 – среднеспециальное или 4 – высшее)\n",
        " - Mjob - работа матери (\"teacher\", \"health\" care related, civil \"services\" (e.g. administrative or police), \"at_home\" or \"other\")\n",
        " - Fjob - работа отца (\"teacher\", \"health\" care related, civil \"services\" (e.g. administrative or police), \"at_home\" or \"other\")\n",
        " - reason - причина выбора школы (близко к дому — \"home\", репутация школы — \"reputation\", предпочтение некоторым предметам - \"course\" или \"other\")\n",
        " - guardian - опекун (\"mother\", \"father\" или \"other\")\n",
        " - traveltime - время от дома до школы (1 - меньше 15 мин., 2 - 15 до 30 мин., 3 - 30 мин. до 1 часа, или 4 - больше 1 часа)\n",
        " - studytime - количество часов обучения в неделю (1 - меньше 2 часов, 2 - от 2 до 5 часов, 3 - от 5 до 10 часов, или 4 - больше 10 часов)\n",
        " - failures - количество ранее не сданных предметов (n if 1 <= n < 3, else 4)\n",
        " - schoolsup - дополнительные занятия (yes or no)\n",
        " - famsup - помощь от семьи при выполнении заданий (yes or no)\n",
        " - paid - дополнительные платные занятия (yes or no)\n",
        " - activities - внеклассная деятельность (yes or no)\n",
        " - nursery - посещал детский сад (yes or no)\n",
        " - higher - желание высшего образования (yes or no)\n",
        " - internet - домашний интернет (yes or no)\n",
        " - romantic - состоит в романтических отношениях (yes or no)\n",
        " - famrel - насколько хороши отношения в семье (от 1 - очень плохие до 5 - превосходные)\n",
        " - freetime - наличие свободного времени после школы (от 1 - очень мало до 5 - очень много)\n",
        " - goout - гуляет с друзьями (от 1 - редко до 5 - очень часто)\n",
        " - Dalc - употребление алкоголя в будние дни (от 1 - очень редко до 5 - очень часто)\n",
        " - Walc - употребление алкоголя в выходные (от 1 - очень редко до 5 - очень часто)\n",
        " - health - текущее состояние здоровья (от 1 - очень плохое до 5 - очень хорошее)\n",
        " - absences - количество школьных пропусков (от 0 до 93)\n",
        " - G1 - оценка за первый семестр (от 0 до 20)\n",
        " - G2 - оценка за второй семестр (от 0 до 20)\n",
        " - G3 - итоговая оценка (от 0 до 20)"
      ],
      "metadata": {}
    },
    {
      "cell_type": "markdown",
      "source": [
        "Все эти признаки разных типов. Это необходимо учитывать при решении задачи, потому что для их обработки следует применять разные подходы. Определим типы признаков:\n",
        "\n",
        "- school: бинарный\n",
        "- sex: бинарный\n",
        "- age: числовой\n",
        "- address: бинарный\n",
        "- famsize: бинарный\n",
        "- Pstatus: бинарный\n",
        "- Medu: порядковый (числовой)\n",
        "- Fedu: порядковый (числовой)\n",
        "- Mjob: категориальный\n",
        "- Fjob: категориальный\n",
        "- reason: категориальный\n",
        "- guardian: категориальный\n",
        "- traveltime: порядковый (числовой)\n",
        "- studytime: порядковый (числовой)\n",
        "- failures: числовой\n",
        "- schoolsup: бинарный\n",
        "- famsup: бинарный\n",
        "- paid: бинарный\n",
        "- activities: бинарный\n",
        "- nursery: бинарный\n",
        "- higher: бинарный\n",
        "- internet: бинарный\n",
        "- romantic: бинарный\n",
        "- famrel: порядковый (числовой)\n",
        "- freetime: порядковый (числовой)\n",
        "- goout: порядковый (числовой)\n",
        "- Dalc: порядковый (числовой)\n",
        "- Walc: порядковый (числовой)\n",
        "- health: порядковый (числовой)\n",
        "- absences: числовой\n",
        "- G1: числовой\n",
        "- G2: числовой"
      ],
      "metadata": {}
    },
    {
      "cell_type": "markdown",
      "source": [
        "Посмотрим, есть ли в данных пропуски:"
      ],
      "metadata": {}
    },
    {
      "cell_type": "code",
      "source": [
        "data.isnull().any().any()"
      ],
      "outputs": [
        {
          "output_type": "execute_result",
          "execution_count": 5,
          "data": {
            "text/plain": [
              "False"
            ]
          },
          "metadata": {}
        }
      ],
      "execution_count": 5,
      "metadata": {}
    },
    {
      "cell_type": "markdown",
      "source": [
        "Итак, пропусков нет."
      ],
      "metadata": {}
    },
    {
      "cell_type": "markdown",
      "source": [
        "Работа с признаками - очень важный этап решения задачи. Помимо имеющихся признаков, можно создавать новые, которые могут оказаться полезными для построения качественного алгоритма. Например, внимательно изучив описания признаков, связанных с алкоголем, создадим признак \"alc\", который будет отражать общее употребление алкоголя в течение недели по формуле ниже:\n",
        "\n",
        "$$\n",
        "alc = \\frac{5\\times Dalc + 2 \\times Walc}{7}\n",
        "$$"
      ],
      "metadata": {}
    },
    {
      "cell_type": "code",
      "source": [
        "data['alc'] = (5 * data['Walc'] + 2 * data['Dalc']) / 7"
      ],
      "outputs": [],
      "execution_count": 6,
      "metadata": {
        "collapsed": true
      }
    },
    {
      "cell_type": "code",
      "source": [
        "data[['Walc', 'Dalc', 'alc']].head()"
      ],
      "outputs": [
        {
          "output_type": "execute_result",
          "execution_count": 7,
          "data": {
            "text/html": [
              "<div>\n",
              "<style>\n",
              "    .dataframe thead tr:only-child th {\n",
              "        text-align: right;\n",
              "    }\n",
              "\n",
              "    .dataframe thead th {\n",
              "        text-align: left;\n",
              "    }\n",
              "\n",
              "    .dataframe tbody tr th {\n",
              "        vertical-align: top;\n",
              "    }\n",
              "</style>\n",
              "<table border=\"1\" class=\"dataframe\">\n",
              "  <thead>\n",
              "    <tr style=\"text-align: right;\">\n",
              "      <th></th>\n",
              "      <th>Walc</th>\n",
              "      <th>Dalc</th>\n",
              "      <th>alc</th>\n",
              "    </tr>\n",
              "  </thead>\n",
              "  <tbody>\n",
              "    <tr>\n",
              "      <th>0</th>\n",
              "      <td>1</td>\n",
              "      <td>1</td>\n",
              "      <td>1.000000</td>\n",
              "    </tr>\n",
              "    <tr>\n",
              "      <th>1</th>\n",
              "      <td>1</td>\n",
              "      <td>1</td>\n",
              "      <td>1.000000</td>\n",
              "    </tr>\n",
              "    <tr>\n",
              "      <th>2</th>\n",
              "      <td>3</td>\n",
              "      <td>2</td>\n",
              "      <td>2.714286</td>\n",
              "    </tr>\n",
              "    <tr>\n",
              "      <th>3</th>\n",
              "      <td>1</td>\n",
              "      <td>1</td>\n",
              "      <td>1.000000</td>\n",
              "    </tr>\n",
              "    <tr>\n",
              "      <th>4</th>\n",
              "      <td>2</td>\n",
              "      <td>1</td>\n",
              "      <td>1.714286</td>\n",
              "    </tr>\n",
              "  </tbody>\n",
              "</table>\n",
              "</div>"
            ],
            "text/plain": [
              "   Walc  Dalc       alc\n",
              "0     1     1  1.000000\n",
              "1     1     1  1.000000\n",
              "2     3     2  2.714286\n",
              "3     1     1  1.000000\n",
              "4     2     1  1.714286"
            ]
          },
          "metadata": {}
        }
      ],
      "execution_count": 7,
      "metadata": {}
    },
    {
      "cell_type": "markdown",
      "source": [
        "Проанализируем взаимосвязь употребления алкоголя и успехов в учебе детальнее. Посмотрим на распределение употребления алкоголя у студентов:"
      ],
      "metadata": {}
    },
    {
      "cell_type": "code",
      "source": [
        "plt.figure(figsize=(10,7))\n",
        "data['alc'].hist()\n",
        "plt.xlabel('weekly alcohol consumption')\n",
        "plt.ylabel('number of students')\n",
        "plt.show()"
      ],
      "outputs": [
        {
          "output_type": "display_data",
          "data": {
            "image/png": "[encoded data removed]",
            "text/plain": [
              "<matplotlib.figure.Figure at 0x22249b6e7b8>"
            ]
          },
          "metadata": {}
        }
      ],
      "execution_count": 8,
      "metadata": {}
    },
    {
      "cell_type": "markdown",
      "source": [
        "Посмотрим на среднее употребление алкоголя:"
      ],
      "metadata": {}
    },
    {
      "cell_type": "code",
      "source": [
        "data['alc'].mean()"
      ],
      "outputs": [
        {
          "output_type": "execute_result",
          "execution_count": 9,
          "data": {
            "text/plain": [
              "2.0596745027124737"
            ]
          },
          "metadata": {}
        }
      ],
      "execution_count": 9,
      "metadata": {}
    },
    {
      "cell_type": "markdown",
      "source": [
        "Итак, из гистограммы и полученного значения можно сделать вывод, что в среднем студенты употребляют алкоголь относительно редко. Теперь посмотрим на влияние употребления алкоголя в выходные и будни на итоговую оценку. Для этого разделим студентов на две части: те, чье употребление алкоголя меньше среднего, и те, у кого оно не меньше среднего. Начнем с выходных."
      ],
      "metadata": {}
    },
    {
      "cell_type": "code",
      "source": [
        "weekend_sober = data[data['Walc'] < data['Walc'].mean()]\n",
        "weekend_drunk = data[data['Walc'] >= data['Walc'].mean()]"
      ],
      "outputs": [],
      "execution_count": 10,
      "metadata": {
        "collapsed": true
      }
    },
    {
      "cell_type": "code",
      "source": [
        "weekend_sober.shape, weekend_drunk.shape"
      ],
      "outputs": [
        {
          "output_type": "execute_result",
          "execution_count": 11,
          "data": {
            "text/plain": [
              "((236, 34), (159, 34))"
            ]
          },
          "metadata": {}
        }
      ],
      "execution_count": 11,
      "metadata": {}
    },
    {
      "cell_type": "markdown",
      "source": [
        "Посчитаем среднее значение целевой переменной для каждой части."
      ],
      "metadata": {}
    },
    {
      "cell_type": "code",
      "source": [
        "weekend_sober_g3 = weekend_sober['G3'].mean()\n",
        "weekend_drunk_g3 = weekend_drunk['G3'].mean()\n",
        "print(weekend_sober_g3, weekend_drunk_g3)"
      ],
      "outputs": [
        {
          "output_type": "stream",
          "name": "stdout",
          "text": [
            "10.5 10.28930817610063\n"
          ]
        }
      ],
      "execution_count": 12,
      "metadata": {}
    },
    {
      "cell_type": "markdown",
      "source": [
        "Итак, средние оценки примерно одинаковы - у тех, кто употребляет больше алкоголя в выходные, она чуть хуже. Теперь перейдем к будним дням."
      ],
      "metadata": {}
    },
    {
      "cell_type": "code",
      "source": [
        "workday_sober = data[data['Dalc'] < data['Dalc'].mean()]\n",
        "workday_drunk = data[data['Dalc'] >= data['Dalc'].mean()]"
      ],
      "outputs": [],
      "execution_count": 13,
      "metadata": {
        "collapsed": true
      }
    },
    {
      "cell_type": "code",
      "source": [
        "workday_sober.shape, workday_drunk.shape"
      ],
      "outputs": [
        {
          "output_type": "execute_result",
          "execution_count": 14,
          "data": {
            "text/plain": [
              "((276, 34), (119, 34))"
            ]
          },
          "metadata": {}
        }
      ],
      "execution_count": 14,
      "metadata": {}
    },
    {
      "cell_type": "code",
      "source": [
        "workday_sober_g3 = workday_sober['G3'].mean()\n",
        "workday_drunk_g3 = workday_drunk['G3'].mean()\n",
        "print(workday_sober_g3, workday_drunk_g3)"
      ],
      "outputs": [
        {
          "output_type": "stream",
          "name": "stdout",
          "text": [
            "10.731884057971014 9.680672268907562\n"
          ]
        }
      ],
      "execution_count": 15,
      "metadata": {}
    },
    {
      "cell_type": "markdown",
      "source": [
        "По сравнению с выходными, разница между средними оценками сильно увеличилась и стала больше одного балла."
      ],
      "metadata": {}
    },
    {
      "cell_type": "markdown",
      "source": [
        "Из подобного краткого анализа можно сделать предварительное предположение о том, что алкоголь влияет на успехи в учебе: те, кто употребляет больше алкоголя в будние дни, учится хуже, чем те, кто лучше себя в этом плане контролирует. Это наблюдение можно интерпретировать: в будни учеба особенно интенсивна, поэтому употребление алкоголя в эти дни мешает учиться, в отличие от выходных, когда можно отдохнуть."
      ],
      "metadata": {}
    },
    {
      "cell_type": "markdown",
      "source": [
        "# 5 Задания для самостоятельного решения"
      ],
      "metadata": {}
    },
    {
      "cell_type": "markdown",
      "source": [
        "1. Верно ли, что студенты, имеющие больше 10 пропусков, учатся хуже, чем остальные?\n",
        "2. Можно ли сказать, что между оценками за полугодия и итоговой оценкой есть линейная зависимость? *(подсказка: посчитайте корреляцию между соответствующими столбцами с помощью функции .corr() из pandas)*\n",
        "3. Как вы думаете, какие еще признаки могут повлиять на итоговую оценку? Найдите закономерности, аналогичные рассмотренным.\n",
        "4. Как вы думаете, если при школе откроется общежитие, насколько актуально это будет для студентов математического класса?"
      ],
      "metadata": {}
    }
  ],
  "metadata": {
    "kernelspec": {
      "name": "python3",
      "language": "python",
      "display_name": "Python 3"
    },
    "language_info": {
      "name": "python",
      "version": "3.7.0",
      "mimetype": "text/x-python",
      "codemirror_mode": {
        "name": "ipython",
        "version": 3
      },
      "pygments_lexer": "ipython3",
      "nbconvert_exporter": "python",
      "file_extension": ".py"
    },
    "kernel_info": {
      "name": "python3"
    },
    "nteract": {
      "version": "0.9.1"
    }
  },
  "nbformat": 4,
  "nbformat_minor": 2
}
