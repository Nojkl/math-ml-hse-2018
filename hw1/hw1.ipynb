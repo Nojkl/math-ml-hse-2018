{
 "cells": [
  {
   "cell_type": "markdown",
   "metadata": {},
   "source": [
    "# Машинное обучение на факультете математики\n",
    "## НИУ ВШЭ, 2018-19 учебный год\n",
    "### Домашнее задание №1\n",
    "[Страница курса](http://wiki.cs.hse.ru/Машинное_обучение_на_матфаке_2018/2019)"
   ]
  },
  {
   "cell_type": "markdown",
   "metadata": {},
   "source": [
    "Задание выполнил(а): *(впишите свои фамилию и имя)*"
   ]
  },
  {
   "cell_type": "markdown",
   "metadata": {},
   "source": [
    "**Внимание!** Домашнее задание выполняется самостоятельно. При попытке сдать хотя бы частично списанный текст, или текст, полученный в результате совместного решения задач, вся работа будет оценена на 0 баллов. Мы также уведомим администрацию факультета и попросим применить дисциплинарное взыскание (предупреждение, выговор, отчисление) ко всем вовлеченным студентам."
   ]
  },
  {
   "cell_type": "markdown",
   "metadata": {},
   "source": [
    "### Определение: равномерное распределение\n",
    "Абсолютно непрерывная случайная величина $X$ называется *равномерно распределённой* на отрезке $[a, b]$, если её плотность задаётся функцией \n",
    "$$p_{X}(x)=\\frac{1}{b-a}\\mathbb I_{[a, b]}(x),$$\n",
    "где $\\mathbb I_{[a, b]}$ — индикаторная функция отрезка $[a, b]$. Пишут:\n",
    "\n",
    "$$\\newcommand{\\Uniform}{\\mathop{\\mathrm{Uniform}}}\n",
    "X\\sim \\Uniform(a, b)$$\n",
    "\n",
    "### Задача 1 (теоретическая)\n",
    "Пусть $X \\sim \\Uniform(a, b)$, $Y=X^2$.\n",
    "\n",
    "1. Найти плотность $p_Y(y)$. Является ли она ограниченной?\n",
    "2. Пусть $y_1, \\ldots, y_n$ — некоторая выборка, порождённая случайной величиной $Y$. Придумать какую-нибудь состоятельную оценку для параметра $a$ по этой выборке.\n",
    "3. Является ли придуманная вами оценка несмещённой? (Подсказка: возьмите, например, $n=1$.)"
   ]
  },
  {
   "cell_type": "markdown",
   "metadata": {},
   "source": [
    "*(впишите ваше решение здесь)*"
   ]
  },
  {
   "cell_type": "markdown",
   "metadata": {},
   "source": [
    "###  Задача 2 (теоретическая)\n",
    "\n",
    "Пусть \n",
    "\n",
    "$$\n",
    "\\begin{gather*}\n",
    "X  \\sim \\Uniform(-1, 1),\\\\\n",
    "\\varepsilon \\sim \\Uniform(0, 1),\\\\\n",
    "Y=X+\\varepsilon X,\n",
    "\\end{gather*}\n",
    "$$\n",
    "где $\\varepsilon$ независим от $X$.\n",
    "\n",
    "1. Найти $p_{X}(x)$, $p_{Y\\mid X}(y\\mid x)$, $p_{X, Y}(x, y)$. Является ли эта функция ограниченной?\n",
    "2. Найти $\\mathbb E[Y|X=x_0]$ (это какая-то функция от числа $x_0$).\n",
    "3. Найти $p_{Y}(y)$ — маргинальную плотность $Y$. Проверьте, что это действительно плотность, то есть $\\int_{\\mathbb R}p_Y(y)dy=1$. Является ли эта функция ограниченной?\n",
    "4. (*) Как изменился бы ответ на вопрос 1, если бы $\\varepsilon$ не был независим от $X$, а вычислялся по формуле: $\\varepsilon = |X|$. (Проверьте, что в этом случае распределение $\\varepsilon$ по-прежнему $\\Uniform(0, 1)$.)"
   ]
  },
  {
   "cell_type": "markdown",
   "metadata": {},
   "source": [
    "*(впишите своё решение сюда)*"
   ]
  },
  {
   "cell_type": "markdown",
   "metadata": {},
   "source": [
    "### Задача 3 (практическая)\n",
    "Маша, Катя и Люба изучают выборку $x_1, \\ldots, x_n$ из нормального распределения с неизвестным средним $\\mu$ и дисперсией $1$. Они хотят оценить $\\mu$ по этой выборке. Маша в качестве оценки использует выборочное среднее $\\mathrm{\\mathop{Ave}}$ (то есть просто среднее арифметическое), Катя использует [медиану выборки](https://ru.wikipedia.org/wiki/Медиана_(статистика%29), а Люба функцию $\\mathrm{\\mathop{midrange}}$:\n",
    "$$\\mathrm{\\mathop{midrange}}(x_1, \\ldots, x_n)=\\frac{1}{2}(\\max(x_1, \\ldots, x_n)+\\min(x_1, \\ldots, x_n)).$$\n",
    "\n",
    "1. Являются ли эти оценки несмещенными? Ответьте с помощью численного эксперимента: зафиксируйте какое-нибудь $\\mu$ (например, $\\mu=0$) и $n$ (например, $n=10$), сгенерируйте много (например, 10 000) выборок (это можно сделать с помощью функции `np.random.normal`, в качестве `size` нужно передать пару `(число_выборок, n)` — получится матрица указанного  размера, заполненная случайными числами из данного распределения), для каждой найдите значение соответствующей функции (нужно использовать функции `np.mean`, `np.random`, `np.max`, `np.min` — все они принимают параметр `axis` — изучите, как он работает) и усредните их. Получается ли число, близкое к $\\mu$? Становится ли оно ближе с увеличением числа выборок (при фиксированном $n$)?\n",
    "\n",
    "2. Оцените дисперсию каждой оценки для различных $n$. Зафиксируйте число выборок (допустим, 1000) и в цикле по `n` от 2 до 100 выполните следующее. Сгенерируйте 1000 выборок длиной $n$, для каждой выборки найдите значение соответствущей оценки (аналогично предыдущему пункту) и посчитайте выборочную дисперсию для полученных оценок (с помощью `.var()`). Постройте график, показывающий зависимость дисперсии каждой из оценок от $n$. Какая оценка имеет наименьшую дисперсию? Какая наибольшую?\n",
    "\n",
    "3. Выполните пункт 2 для равномерного распределения на отрезке $[-1, 1]$. Какая теперь оценка имеет наименьшую дисперсию? Какая наибольшую? Как вы можете объяснить разницу с предыдущим пунктом?"
   ]
  },
  {
   "cell_type": "code",
   "execution_count": 93,
   "metadata": {},
   "outputs": [
    {
     "data": {
      "text/plain": [
       "<matplotlib.legend.Legend at 0x10fa4ed30>"
      ]
     },
     "execution_count": 93,
     "metadata": {},
     "output_type": "execute_result"
    },
    {
     "data": {
      "image/png": "[encoded data removed]",
      "text/plain": [
       "<Figure size 432x288 with 1 Axes>"
      ]
     },
     "metadata": {},
     "output_type": "display_data"
    }
   ],
   "source": [
    "# Вот пример кода, который вам может пригодиться для решения второго пункта.\n",
    "import numpy as np\n",
    "import matplotlib.pyplot as plt\n",
    "%matplotlib inline\n",
    "\n",
    "a = []\n",
    "b = []\n",
    "x_range = range(2, 10)\n",
    "for n in x_range:\n",
    "    a.append(n ** 2)\n",
    "    b.append(n ** 3)\n",
    "plt.plot(x_range, a, label='a')\n",
    "plt.plot(x_range, b, label='b')\n",
    "plt.legend() # нарисовать легенду"
   ]
  },
  {
   "cell_type": "code",
   "execution_count": 2,
   "metadata": {},
   "outputs": [],
   "source": [
    "# впишите решение сюда"
   ]
  },
  {
   "cell_type": "markdown",
   "metadata": {},
   "source": [
    "### Задача 4 (практическая)\n",
    "Реализуйте метод $k$ ближайших соседей со взвешиванием для задачи регрессии. Пусть нам нужно вычислить значение $y$ для некоторого $x$, наши данные заданы как $(x_1, y_1), \\ldots, (x_n, y_n)$. Обычный метод $k$ ближайших соседей находит такие $i_1, \\ldots, i_k$, что $x_{i_m}$, $m=1, \\ldots, k$ являются $k$ ближайшими соседями для точки $x$, и полагает\n",
    "\n",
    "$$\\widehat{y} = \\frac{1}{n}\\sum_{m=1}^k x_{i_m}.$$\n",
    "\n",
    "Модифицированный метод $k$ ближайших соседей, который вам предстоит реализовать, использует другую оценку:\n",
    "\n",
    "$$\\widehat y = \\frac{\\sum_{m=1}^k x_{i_m}|x_{i_m}-x|^{-1}}{\\sum_{m=1}^k |y_{i_m}-x|^{-1}}.$$\n",
    "\n",
    "Данный механизм увеличивает вес тех соседей, которые близки к $x$, и уменьшает тех, которые далеки."
   ]
  },
  {
   "cell_type": "code",
   "execution_count": 103,
   "metadata": {
    "collapsed": true
   },
   "outputs": [],
   "source": [
    "# ваше решение здесь\n",
    "# (можете модифицировать код из семинарского ноутбука)"
   ]
  }
 ],
 "metadata": {
  "kernelspec": {
   "display_name": "Python 3",
   "language": "python",
   "name": "python3"
  },
  "language_info": {
   "codemirror_mode": {
    "name": "ipython",
    "version": 3
   },
   "file_extension": ".py",
   "mimetype": "text/x-python",
   "name": "python",
   "nbconvert_exporter": "python",
   "pygments_lexer": "ipython3",
   "version": "3.7.0"
  }
 },
 "nbformat": 4,
 "nbformat_minor": 1
}
